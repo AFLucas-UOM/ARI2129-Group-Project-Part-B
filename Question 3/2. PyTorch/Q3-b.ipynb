{
 "cells": [
  {
   "cell_type": "markdown",
   "metadata": {},
   "source": [
    "# This JupyterNotebook was taken care by: `Thomas Koppens` (029204L)"
   ]
  }
 ],
 "metadata": {
  "language_info": {
   "name": "python"
  }
 },
 "nbformat": 4,
 "nbformat_minor": 2
}
